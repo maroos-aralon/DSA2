{
 "cells": [
  {
   "cell_type": "code",
   "execution_count": 120,
   "metadata": {
    "collapsed": true,
    "ExecuteTime": {
     "end_time": "2024-04-15T13:16:48.461420800Z",
     "start_time": "2024-04-15T13:16:48.446512300Z"
    }
   },
   "outputs": [],
   "source": [
    "import pandas as pd\n",
    "import numpy as np\n",
    "import matplotlib.pyplot as plt\n",
    "from sklearn.model_selection import train_test_split\n",
    "from difflib import SequenceMatcher, ndiff\n",
    "from sklearn.metrics import mean_squared_error\n",
    "\n",
    "from sklearn.ensemble import RandomForestRegressor, BaggingRegressor\n",
    "from nltk.stem.snowball import SnowballStemmer\n"
   ]
  },
  {
   "cell_type": "markdown",
   "metadata": {},
   "source": [
    "# Import CSV as Dataframes"
   ]
  },
  {
   "cell_type": "code",
   "execution_count": 121,
   "metadata": {
    "collapsed": false,
    "ExecuteTime": {
     "end_time": "2024-04-15T13:16:54.113224700Z",
     "start_time": "2024-04-15T13:16:51.370660Z"
    }
   },
   "outputs": [],
   "source": [
    "attributes = pd.read_csv(\"Contents/attributes.csv\", encoding = 'latin')\n",
    "descriptions = pd.read_csv(\"Contents/product_descriptions.csv\", encoding = 'latin')\n",
    "\n",
    "test_df = pd.read_csv(\"Contents/test.csv\", encoding=\"ISO-8859-1\")\n",
    "train_df = pd.read_csv(\"Contents/train.csv\", encoding=\"ISO-8859-1\")"
   ]
  },
  {
   "cell_type": "code",
   "execution_count": 125,
   "outputs": [
    {
     "name": "stdout",
     "output_type": "stream",
     "text": [
      "id               74067\n",
      "product_uid      74067\n",
      "product_title    74067\n",
      "search_term      74067\n",
      "relevance        74067\n",
      "dtype: int64\n",
      "53489\n",
      "product_title\n",
      "Pressure-Treated Timber #2 Southern Yellow Pine (Common: 4 in. x 4 in. x 8 ft.; Actual: 3.56 in. x 3.56 in. x 96 in.)    21\n",
      "Lithonia Lighting All Season 4 ft. 2-Light Grey T8 Strip Fluorescent Shop Light                                          21\n",
      "dtype: int64\n",
      "count    74067.000000\n",
      "mean         2.381634\n",
      "std          0.533984\n",
      "min          1.000000\n",
      "25%          2.000000\n",
      "50%          2.330000\n",
      "75%          3.000000\n",
      "max          3.000000\n",
      "Name: relevance, dtype: float64\n"
     ]
    },
    {
     "data": {
      "text/plain": "<Figure size 640x480 with 1 Axes>",
      "image/png": "[encoded data removed]"
     },
     "metadata": {},
     "output_type": "display_data"
    }
   ],
   "source": [
    "print(train_df.count()) #73392\n",
    "\n",
    "print(train_df['product_title'].nunique() )# 53489\n",
    "\n",
    "print(train_df.copy().groupby(['product_title']).size().sort_values(ascending=False)[:2])\n",
    "\n",
    "print(train_df['relevance'].describe())\n",
    "\n",
    "\n",
    "fig, ax = plt.subplots(tight_layout=True)\n",
    "plt.style.use('ggplot')\n",
    "plt.hist(train_df['relevance'], bins=30, color='skyblue', edgecolor='black')\n",
    "plt.xlabel('Relevance Values')\n",
    "plt.ylabel('Frequency')\n",
    "plt.title('Relevance Score Distribution')\n",
    "plt.show()"
   ],
   "metadata": {
    "collapsed": false,
    "ExecuteTime": {
     "end_time": "2024-04-15T13:19:51.762923700Z",
     "start_time": "2024-04-15T13:19:51.392804900Z"
    }
   }
  },
  {
   "cell_type": "code",
   "execution_count": 55,
   "outputs": [
    {
     "data": {
      "text/plain": "value\nUnbranded                     2954\nHampton Bay                   1723\nKOHLER                        1389\nEverbilt                      1381\nHome Decorators Collection    1275\n                              ... \nNo Brand                         1\nNiza Pro                         1\nNiles                            1\nNightlock                        1\nLightning Nugget                 1\nName: frequency, Length: 4287, dtype: int64"
     },
     "execution_count": 55,
     "metadata": {},
     "output_type": "execute_result"
    }
   ],
   "source": [
    "## See which brands are mostly mentioned in attributes\n",
    "brand_attribute = attributes.loc[attributes['name']==\"MFG Brand Name\"]\n",
    "brand_attribute.groupby(\"value\").count().rename(columns={'name':'frequency'}).sort_values(by=\"frequency\", ascending=False)['frequency']"
   ],
   "metadata": {
    "collapsed": false,
    "ExecuteTime": {
     "end_time": "2024-04-15T11:35:23.073687300Z",
     "start_time": "2024-04-15T11:35:22.781236600Z"
    }
   }
  },
  {
   "cell_type": "code",
   "execution_count": 100,
   "outputs": [
    {
     "data": {
      "text/plain": "           id  product_uid                                      product_title  \\\n0           2       100001                  Simpson Strong-Tie 12-Gauge Angle   \n1           3       100001                  Simpson Strong-Tie 12-Gauge Angle   \n2           9       100002  BEHR Premium Textured DeckOver 1-gal. #SC-141 ...   \n3          16       100005  Delta Vero 1-Handle Shower Only Faucet Trim Ki...   \n4          17       100005  Delta Vero 1-Handle Shower Only Faucet Trim Ki...   \n...       ...          ...                                                ...   \n74490  221457       206638  Atlantic Windowpane 576 CD or 192 DVD Blu-Ray ...   \n74491  221458       206639  Philips 40-Watt Halogen R20 Flood Light Bulb (...   \n74492  221463       206641  Schlage Camelot In-Active Aged Bronze Handlese...   \n74493  221471       206648  Plastec 11 in. x 24 in. Rose Garden Wall Decor...   \n74494  221473       206650  LICHTENBERG Pool Blue No. 918 Millennial Ryan ...   \n\n                                   search_term  relevance      color_family  \n0                                angle bracket       3.00               nan  \n1                                    l bracket       2.50               nan  \n2                                    deck over       3.00       brown / tan  \n3                             rain shower head       2.33            chrome  \n4                           shower only faucet       2.67            chrome  \n...                                        ...        ...               ...  \n74490                           tv riser glass       1.00  light brown wood  \n74491                        r20 halogen light       3.00               nan  \n74492  schlage lock siena half dummy knob with       2.33               nan  \n74493                        zen garden  decor       3.00               nan  \n74494             fine sheer curtain 63 inches       2.33             green  \n\n[74495 rows x 6 columns]",
      "text/html": "<div>\n<style scoped>\n    .dataframe tbody tr th:only-of-type {\n        vertical-align: middle;\n    }\n\n    .dataframe tbody tr th {\n        vertical-align: top;\n    }\n\n    .dataframe thead th {\n        text-align: right;\n    }\n</style>\n<table border=\"1\" class=\"dataframe\">\n  <thead>\n    <tr style=\"text-align: right;\">\n      <th></th>\n      <th>id</th>\n      <th>product_uid</th>\n      <th>product_title</th>\n      <th>search_term</th>\n      <th>relevance</th>\n      <th>color_family</th>\n    </tr>\n  </thead>\n  <tbody>\n    <tr>\n      <th>0</th>\n      <td>2</td>\n      <td>100001</td>\n      <td>Simpson Strong-Tie 12-Gauge Angle</td>\n      <td>angle bracket</td>\n      <td>3.00</td>\n      <td>nan</td>\n    </tr>\n    <tr>\n      <th>1</th>\n      <td>3</td>\n      <td>100001</td>\n      <td>Simpson Strong-Tie 12-Gauge Angle</td>\n      <td>l bracket</td>\n      <td>2.50</td>\n      <td>nan</td>\n    </tr>\n    <tr>\n      <th>2</th>\n      <td>9</td>\n      <td>100002</td>\n      <td>BEHR Premium Textured DeckOver 1-gal. #SC-141 ...</td>\n      <td>deck over</td>\n      <td>3.00</td>\n      <td>brown / tan</td>\n    </tr>\n    <tr>\n      <th>3</th>\n      <td>16</td>\n      <td>100005</td>\n      <td>Delta Vero 1-Handle Shower Only Faucet Trim Ki...</td>\n      <td>rain shower head</td>\n      <td>2.33</td>\n      <td>chrome</td>\n    </tr>\n    <tr>\n      <th>4</th>\n      <td>17</td>\n      <td>100005</td>\n      <td>Delta Vero 1-Handle Shower Only Faucet Trim Ki...</td>\n      <td>shower only faucet</td>\n      <td>2.67</td>\n      <td>chrome</td>\n    </tr>\n    <tr>\n      <th>...</th>\n      <td>...</td>\n      <td>...</td>\n      <td>...</td>\n      <td>...</td>\n      <td>...</td>\n      <td>...</td>\n    </tr>\n    <tr>\n      <th>74490</th>\n      <td>221457</td>\n      <td>206638</td>\n      <td>Atlantic Windowpane 576 CD or 192 DVD Blu-Ray ...</td>\n      <td>tv riser glass</td>\n      <td>1.00</td>\n      <td>light brown wood</td>\n    </tr>\n    <tr>\n      <th>74491</th>\n      <td>221458</td>\n      <td>206639</td>\n      <td>Philips 40-Watt Halogen R20 Flood Light Bulb (...</td>\n      <td>r20 halogen light</td>\n      <td>3.00</td>\n      <td>nan</td>\n    </tr>\n    <tr>\n      <th>74492</th>\n      <td>221463</td>\n      <td>206641</td>\n      <td>Schlage Camelot In-Active Aged Bronze Handlese...</td>\n      <td>schlage lock siena half dummy knob with</td>\n      <td>2.33</td>\n      <td>nan</td>\n    </tr>\n    <tr>\n      <th>74493</th>\n      <td>221471</td>\n      <td>206648</td>\n      <td>Plastec 11 in. x 24 in. Rose Garden Wall Decor...</td>\n      <td>zen garden  decor</td>\n      <td>3.00</td>\n      <td>nan</td>\n    </tr>\n    <tr>\n      <th>74494</th>\n      <td>221473</td>\n      <td>206650</td>\n      <td>LICHTENBERG Pool Blue No. 918 Millennial Ryan ...</td>\n      <td>fine sheer curtain 63 inches</td>\n      <td>2.33</td>\n      <td>green</td>\n    </tr>\n  </tbody>\n</table>\n<p>74495 rows × 6 columns</p>\n</div>"
     },
     "execution_count": 100,
     "metadata": {},
     "output_type": "execute_result"
    }
   ],
   "source": [
    "def str_stemmer(s):\n",
    "\treturn \" \".join([stemmer.stem(word) for word in str(s).lower().split()])\n",
    "\n",
    "attribute_names = attributes.groupby(\"name\").count().sort_values(by=\"value\", ascending=False)\n",
    "\n",
    "color_attribute = attributes.loc[attributes['name']=='Color Family'].drop(['name'], axis=1).rename(columns={'value':'color_family'})\n",
    "\n",
    "new_train_df = pd.merge(train_df, color_attribute, how=\"left\", on=\"product_uid\")\n",
    "\n",
    "new_train_df['color_family'] = new_train_df['color_family'].map(lambda x:str_stemmer(x))\n",
    "\n",
    "new_train_df"
   ],
   "metadata": {
    "collapsed": false,
    "ExecuteTime": {
     "end_time": "2024-04-15T12:17:08.433767500Z",
     "start_time": "2024-04-15T12:17:05.336814200Z"
    }
   }
  },
  {
   "cell_type": "code",
   "execution_count": 132,
   "outputs": [],
   "source": [
    "import spacy\n",
    "nlp = spacy.load(\"en_core_web_md\")\n",
    "\n",
    "def similar(a, b):\n",
    "    if b == 'nan':\n",
    "        score = np.nan\n",
    "    else:\n",
    "        score = SequenceMatcher(None, a, b).ratio()\n",
    "    return score\n",
    "\n",
    "def str_common_word(str1, str2):\n",
    "    if str2 == 'nan':\n",
    "        common = np.nan\n",
    "    else:\n",
    "        common = sum(int(str2.find(word)>=0) for word in str1.split())\n",
    "    return common\n",
    "\n",
    "def compute_similarity(input_string, reference_string):\n",
    "    if reference_string == 'nan':\n",
    "        score = np.nan\n",
    "    else:\n",
    "        diff = ndiff(input_string, reference_string)\n",
    "        diff_count = 0\n",
    "        for line in diff:\n",
    "            if line.startswith(\"-\"):\n",
    "                diff_count += 1\n",
    "        score = 1 - (diff_count / len(input_string))\n",
    "    return score\n",
    "\n",
    "#new_train_df['color_similarity'] = new_train_df.apply(lambda x: similar(x['search_term'], x['color_family']), axis=1)\n",
    "#new_train_df['title_similarity'] = new_train_df.apply(lambda x: similar(x['search_term'], x['product_title']), axis=1)\n",
    "\n",
    "# new_train_df['color_similarity'] = new_train_df.apply(lambda x: str_common_word(x['search_term'], x['color_family']), axis=1)\n",
    "# new_train_df['title_similarity'] = new_train_df.apply(lambda x: compute_similarity(x['search_term'], x['product_title']), axis=1)\n",
    "\n",
    "# new_train_df"
   ],
   "metadata": {
    "collapsed": false,
    "ExecuteTime": {
     "end_time": "2024-04-15T16:28:40.332428800Z",
     "start_time": "2024-04-15T16:21:55.351037300Z"
    }
   }
  },
  {
   "cell_type": "code",
   "execution_count": 135,
   "outputs": [],
   "source": [
    "search_term_nlp = [nlp(x) for x in new_train_df['search_term']]\n",
    "\n",
    "colors_nlp = [nlp(x) for x in new_train_df['color_family']]"
   ],
   "metadata": {
    "collapsed": false,
    "ExecuteTime": {
     "end_time": "2024-04-15T16:54:47.334972600Z",
     "start_time": "2024-04-15T16:42:02.646163100Z"
    }
   }
  },
  {
   "cell_type": "code",
   "execution_count": 136,
   "outputs": [
    {
     "name": "stderr",
     "output_type": "stream",
     "text": [
      "C:\\Users\\maroo\\AppData\\Local\\Temp\\ipykernel_2600\\1710678293.py:1: UserWarning: [W008] Evaluating Doc.similarity based on empty vectors.\n",
      "  new_train_df['color_similarity'] = new_train_df['similarity_score'] = [search_term_nlp[i].similarity(colors_nlp[i]) for i in range(len(new_train_df))]\n"
     ]
    },
    {
     "name": "stdout",
     "output_type": "stream",
     "text": [
      "0       -0.090443\n",
      "1        0.378849\n",
      "2        0.015826\n",
      "3        0.293487\n",
      "4        0.477647\n",
      "           ...   \n",
      "74490    0.399068\n",
      "74491   -0.125123\n",
      "74492   -0.084300\n",
      "74493    0.067950\n",
      "74494    0.330206\n",
      "Name: color_similarity, Length: 74495, dtype: float64\n"
     ]
    }
   ],
   "source": [
    "new_train_df['color_similarity'] = new_train_df['similarity_score'] = [search_term_nlp[i].similarity(colors_nlp[i]) for i in range(len(new_train_df))]\n",
    "\n",
    "# color_similarity = search_term_nlp.similarity(colors_nlp)\n",
    "print(new_train_df['color_similarity'])"
   ],
   "metadata": {
    "collapsed": false,
    "ExecuteTime": {
     "end_time": "2024-04-15T16:55:24.153920Z",
     "start_time": "2024-04-15T16:55:17.713519800Z"
    }
   }
  },
  {
   "cell_type": "code",
   "execution_count": 111,
   "outputs": [],
   "source": [
    "stemmer = SnowballStemmer('english')\n",
    "\n",
    "df_train = pd.read_csv('Contents/train.csv', encoding=\"ISO-8859-1\")\n",
    "df_test = pd.read_csv('Contents/test.csv', encoding=\"ISO-8859-1\")\n",
    "df_attr = pd.read_csv('Contents/attributes.csv')\n",
    "df_pro_desc = pd.read_csv('Contents/product_descriptions.csv')\n",
    "\n",
    "# rng=np.random.RandomState(12)\n",
    "#\n",
    "# train_indices = rng.choice(74067, replace=False, size=12000)\n",
    "# df_train = df_train.iloc[train_indices]\n",
    "#\n",
    "# test_indices = rng.choice(166693, replace=False, size=9000)\n",
    "# df_test = df_test.iloc[test_indices]\n",
    "\n",
    "num_train = df_train.shape[0]"
   ],
   "metadata": {
    "collapsed": false,
    "ExecuteTime": {
     "end_time": "2024-04-15T13:06:49.069986200Z",
     "start_time": "2024-04-15T13:06:46.219865500Z"
    }
   }
  },
  {
   "cell_type": "code",
   "execution_count": 112,
   "outputs": [],
   "source": [
    "def str_stemmer(s):\n",
    "\treturn \" \".join([stemmer.stem(word) for word in s.lower().split()])\n",
    "\n",
    "def str_common_word(str1, str2):\n",
    "\treturn sum(int(str2.find(word)>=0) for word in str1.split())\n",
    "\n",
    "df_all = pd.concat((df_train, df_test), axis=0, ignore_index=True)\n",
    "\n",
    "df_all = pd.merge(df_all, df_pro_desc, how='left', on='product_uid')\n",
    "\n",
    "# df_all['search_term'] = df_all['search_term'].map(lambda x:str_stemmer(x))\n",
    "# df_all['product_title'] = df_all['product_title'].map(lambda x:str_stemmer(x))\n",
    "# df_all['product_description'] = df_all['product_description'].map(lambda x:str_stemmer(x))\n",
    "\n",
    "df_all['len_of_query'] = df_all['search_term'].map(lambda x:len(x.split())).astype(np.int64)\n",
    "\n",
    "df_all['product_info'] = df_all['search_term']+\"\\t\"+df_all['product_title']+\"\\t\"+df_all['product_description']\n",
    "df_all['word_in_title'] = df_all['product_info'].map(lambda x:str_common_word(x.split('\\t')[0],x.split('\\t')[1]))\n",
    "df_all['word_in_description'] = df_all['product_info'].map(lambda x:str_common_word(x.split('\\t')[0],x.split('\\t')[2]))\n",
    "\n",
    "# df_all['title_similarity'] = df_all.apply(lambda x: compute_similarity(x['search_term'], x['product_title']), axis=1)\n",
    "# df_all['description_similarity'] = df_all.apply(lambda x: compute_similarity(x['search_term'], x['product_description']), axis=1)\n",
    "\n",
    "df_all = df_all.drop(['search_term','product_title','product_description','product_info'],axis=1)\n",
    "\n",
    "df_train = df_all.iloc[:num_train]"
   ],
   "metadata": {
    "collapsed": false,
    "ExecuteTime": {
     "end_time": "2024-04-15T13:07:16.636909600Z",
     "start_time": "2024-04-15T13:07:13.904526900Z"
    }
   }
  },
  {
   "cell_type": "code",
   "execution_count": 113,
   "outputs": [],
   "source": [
    "# df_full_train = pd.read_csv('training_set_stemmed.csv')\n",
    "# X_train, X_test, y_train, y_test = train_test_split(df_full_train.drop(['id','relevance'],axis=1).values, df_full_train['relevance'].values, test_size=0.20, random_state=42)\n",
    "\n",
    "X_train, X_test, y_train, y_test = train_test_split(df_train.drop(['id','relevance'],axis=1).values, df_train['relevance'].values, test_size=0.20, random_state=42)\n",
    "\n",
    "id_test = X_test[:, 0]\n",
    "X_train = X_train[:,1:]\n",
    "X_test = X_test[:,1:]\n",
    "\n",
    "# df_test = df_all.iloc[num_train:]\n",
    "# id_test = df_test['id']\n",
    "\n",
    "# y_train = df_train['relevance'].values\n",
    "# X_train = df_train.drop(['id','relevance'],axis=1).values\n",
    "# X_test = df_test.drop(['id','relevance'],axis=1).values\n",
    "\n",
    "rf = RandomForestRegressor(n_estimators=15, max_depth=6, random_state=0)\n",
    "clf = BaggingRegressor(rf, n_estimators=45, max_samples=0.1, random_state=25)\n",
    "clf.fit(X_train, y_train)\n",
    "y_pred = clf.predict(X_test)\n",
    "\n",
    "pd.DataFrame({\"id\": id_test, \"relevance\": y_pred}).to_csv('week7_1.csv',index=False)"
   ],
   "metadata": {
    "collapsed": false,
    "ExecuteTime": {
     "end_time": "2024-04-15T13:07:27.125026600Z",
     "start_time": "2024-04-15T13:07:24.132077900Z"
    }
   }
  },
  {
   "cell_type": "code",
   "execution_count": 114,
   "outputs": [
    {
     "name": "stdout",
     "output_type": "stream",
     "text": [
      "0.5183947609561672\n"
     ]
    }
   ],
   "source": [
    "rmse = np.sqrt(mean_squared_error(y_test, y_pred))\n",
    "\n",
    "print(rmse)"
   ],
   "metadata": {
    "collapsed": false,
    "ExecuteTime": {
     "end_time": "2024-04-15T13:07:36.207561700Z",
     "start_time": "2024-04-15T13:07:36.181701700Z"
    }
   }
  },
  {
   "cell_type": "code",
   "execution_count": null,
   "outputs": [],
   "source": [],
   "metadata": {
    "collapsed": false
   }
  }
 ],
 "metadata": {
  "kernelspec": {
   "display_name": "Python 3",
   "language": "python",
   "name": "python3"
  },
  "language_info": {
   "codemirror_mode": {
    "name": "ipython",
    "version": 3
   },
   "file_extension": ".py",
   "mimetype": "text/x-python",
   "name": "python",
   "nbconvert_exporter": "python",
   "pygments_lexer": "ipython3",
   "version": "3.12.2"
  }
 },
 "nbformat": 4,
 "nbformat_minor": 0
}

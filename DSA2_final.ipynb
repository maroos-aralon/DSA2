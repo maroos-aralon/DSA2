{
 "cells": [
  {
   "cell_type": "code",
   "execution_count": 1,
   "outputs": [],
   "source": [
    "import pandas as pd\n",
    "import numpy as np\n",
    "import matplotlib.pyplot as plt\n",
    "from sklearn.model_selection import train_test_split\n",
    "from difflib import SequenceMatcher, ndiff\n",
    "from sklearn.metrics import mean_squared_error\n",
    "\n",
    "from sklearn.ensemble import RandomForestRegressor, BaggingRegressor\n",
    "from nltk.stem.snowball import SnowballStemmer\n",
    "import spacy"
   ],
   "metadata": {
    "collapsed": false,
    "ExecuteTime": {
     "end_time": "2024-04-15T16:58:40.855752800Z",
     "start_time": "2024-04-15T16:58:34.061482500Z"
    }
   }
  },
  {
   "cell_type": "markdown",
   "source": [
    "# Loading"
   ],
   "metadata": {
    "collapsed": false
   }
  },
  {
   "cell_type": "code",
   "execution_count": 2,
   "metadata": {
    "collapsed": true,
    "ExecuteTime": {
     "end_time": "2024-04-15T16:58:53.849735500Z",
     "start_time": "2024-04-15T16:58:49.318687400Z"
    }
   },
   "outputs": [],
   "source": [
    "stemmer = SnowballStemmer('english')\n",
    "nlp = spacy.load(\"en_core_web_md\")\n",
    "\n",
    "df_train = pd.read_csv('Contents/train.csv', encoding=\"ISO-8859-1\")\n",
    "df_test = pd.read_csv('Contents/test.csv', encoding=\"ISO-8859-1\")\n",
    "df_attr = pd.read_csv('Contents/attributes.csv')\n",
    "df_pro_desc = pd.read_csv('Contents/product_descriptions.csv')"
   ]
  },
  {
   "cell_type": "markdown",
   "source": [
    "# Select random subset of training data"
   ],
   "metadata": {
    "collapsed": false
   }
  },
  {
   "cell_type": "code",
   "execution_count": 4,
   "outputs": [],
   "source": [
    "rng=np.random.RandomState(12)\n",
    "\n",
    "train_indices = rng.choice(74067, replace=False, size=12000)\n",
    "df_train = df_train.iloc[train_indices]\n",
    "\n",
    "test_indices = rng.choice(166693, replace=False, size=9000)\n",
    "df_test = df_test.iloc[test_indices]"
   ],
   "metadata": {
    "collapsed": false,
    "ExecuteTime": {
     "end_time": "2024-04-15T16:59:08.585358700Z",
     "start_time": "2024-04-15T16:59:08.540697700Z"
    }
   }
  },
  {
   "cell_type": "markdown",
   "source": [
    "# Functions"
   ],
   "metadata": {
    "collapsed": false
   }
  },
  {
   "cell_type": "code",
   "execution_count": 5,
   "outputs": [],
   "source": [
    "def str_stemmer(s):\n",
    "\treturn \" \".join([stemmer.stem(word) for word in s.lower().split()])\n",
    "\n",
    "def str_common_word(str1, str2):\n",
    "\treturn sum(int(str2.find(word)>=0) for word in str1.split())\n",
    "\n",
    "def compute_similarity(input_string, reference_string):\n",
    "    if reference_string == 'nan':\n",
    "        score = np.nan\n",
    "    else:\n",
    "        diff = ndiff(input_string, reference_string)\n",
    "        diff_count = 0\n",
    "        for line in diff:\n",
    "            if line.startswith(\"-\"):\n",
    "                diff_count += 1\n",
    "        score = 1 - (diff_count / len(input_string))\n",
    "    return score"
   ],
   "metadata": {
    "collapsed": false,
    "ExecuteTime": {
     "end_time": "2024-04-15T16:59:11.497971400Z",
     "start_time": "2024-04-15T16:59:11.485208800Z"
    }
   }
  },
  {
   "cell_type": "markdown",
   "source": [
    "# Preprocessing"
   ],
   "metadata": {
    "collapsed": false
   }
  },
  {
   "cell_type": "code",
   "execution_count": 7,
   "outputs": [
    {
     "ename": "KeyboardInterrupt",
     "evalue": "",
     "output_type": "error",
     "traceback": [
      "\u001B[1;31m---------------------------------------------------------------------------\u001B[0m",
      "\u001B[1;31mKeyboardInterrupt\u001B[0m                         Traceback (most recent call last)",
      "Cell \u001B[1;32mIn[7], line 15\u001B[0m\n\u001B[0;32m     13\u001B[0m df_all[\u001B[38;5;124m'\u001B[39m\u001B[38;5;124mlen_of_query\u001B[39m\u001B[38;5;124m'\u001B[39m] \u001B[38;5;241m=\u001B[39m df_all[\u001B[38;5;124m'\u001B[39m\u001B[38;5;124msearch_term\u001B[39m\u001B[38;5;124m'\u001B[39m]\u001B[38;5;241m.\u001B[39mmap(\u001B[38;5;28;01mlambda\u001B[39;00m x:\u001B[38;5;28mlen\u001B[39m(x\u001B[38;5;241m.\u001B[39msplit()))\u001B[38;5;241m.\u001B[39mastype(np\u001B[38;5;241m.\u001B[39mint64)\n\u001B[0;32m     14\u001B[0m df_all[\u001B[38;5;124m'\u001B[39m\u001B[38;5;124mtitle_similarity\u001B[39m\u001B[38;5;124m'\u001B[39m] \u001B[38;5;241m=\u001B[39m df_all\u001B[38;5;241m.\u001B[39mapply(\u001B[38;5;28;01mlambda\u001B[39;00m x: compute_similarity(x[\u001B[38;5;124m'\u001B[39m\u001B[38;5;124msearch_term\u001B[39m\u001B[38;5;124m'\u001B[39m], x[\u001B[38;5;124m'\u001B[39m\u001B[38;5;124mproduct_title\u001B[39m\u001B[38;5;124m'\u001B[39m]), axis\u001B[38;5;241m=\u001B[39m\u001B[38;5;241m1\u001B[39m)\n\u001B[1;32m---> 15\u001B[0m df_all[\u001B[38;5;124m'\u001B[39m\u001B[38;5;124mdescription_similarity\u001B[39m\u001B[38;5;124m'\u001B[39m] \u001B[38;5;241m=\u001B[39m \u001B[43mdf_all\u001B[49m\u001B[38;5;241;43m.\u001B[39;49m\u001B[43mapply\u001B[49m\u001B[43m(\u001B[49m\u001B[38;5;28;43;01mlambda\u001B[39;49;00m\u001B[43m \u001B[49m\u001B[43mx\u001B[49m\u001B[43m:\u001B[49m\u001B[43m \u001B[49m\u001B[43mcompute_similarity\u001B[49m\u001B[43m(\u001B[49m\u001B[43mx\u001B[49m\u001B[43m[\u001B[49m\u001B[38;5;124;43m'\u001B[39;49m\u001B[38;5;124;43msearch_term\u001B[39;49m\u001B[38;5;124;43m'\u001B[39;49m\u001B[43m]\u001B[49m\u001B[43m,\u001B[49m\u001B[43m \u001B[49m\u001B[43mx\u001B[49m\u001B[43m[\u001B[49m\u001B[38;5;124;43m'\u001B[39;49m\u001B[38;5;124;43mproduct_description\u001B[39;49m\u001B[38;5;124;43m'\u001B[39;49m\u001B[43m]\u001B[49m\u001B[43m)\u001B[49m\u001B[43m,\u001B[49m\u001B[43m \u001B[49m\u001B[43maxis\u001B[49m\u001B[38;5;241;43m=\u001B[39;49m\u001B[38;5;241;43m1\u001B[39;49m\u001B[43m)\u001B[49m\n\u001B[0;32m     17\u001B[0m search_term_nlp \u001B[38;5;241m=\u001B[39m [nlp(x) \u001B[38;5;28;01mfor\u001B[39;00m x \u001B[38;5;129;01min\u001B[39;00m df_all[\u001B[38;5;124m'\u001B[39m\u001B[38;5;124msearch_term\u001B[39m\u001B[38;5;124m'\u001B[39m]]\n\u001B[0;32m     18\u001B[0m colors_nlp \u001B[38;5;241m=\u001B[39m [nlp(x) \u001B[38;5;28;01mfor\u001B[39;00m x \u001B[38;5;129;01min\u001B[39;00m df_all[\u001B[38;5;124m'\u001B[39m\u001B[38;5;124mcolor_family\u001B[39m\u001B[38;5;124m'\u001B[39m]]\n",
      "File \u001B[1;32m~\\miniconda3\\envs\\DSA2\\Lib\\site-packages\\pandas\\core\\frame.py:10361\u001B[0m, in \u001B[0;36mDataFrame.apply\u001B[1;34m(self, func, axis, raw, result_type, args, by_row, engine, engine_kwargs, **kwargs)\u001B[0m\n\u001B[0;32m  10347\u001B[0m \u001B[38;5;28;01mfrom\u001B[39;00m \u001B[38;5;21;01mpandas\u001B[39;00m\u001B[38;5;21;01m.\u001B[39;00m\u001B[38;5;21;01mcore\u001B[39;00m\u001B[38;5;21;01m.\u001B[39;00m\u001B[38;5;21;01mapply\u001B[39;00m \u001B[38;5;28;01mimport\u001B[39;00m frame_apply\n\u001B[0;32m  10349\u001B[0m op \u001B[38;5;241m=\u001B[39m frame_apply(\n\u001B[0;32m  10350\u001B[0m     \u001B[38;5;28mself\u001B[39m,\n\u001B[0;32m  10351\u001B[0m     func\u001B[38;5;241m=\u001B[39mfunc,\n\u001B[1;32m   (...)\u001B[0m\n\u001B[0;32m  10359\u001B[0m     kwargs\u001B[38;5;241m=\u001B[39mkwargs,\n\u001B[0;32m  10360\u001B[0m )\n\u001B[1;32m> 10361\u001B[0m \u001B[38;5;28;01mreturn\u001B[39;00m \u001B[43mop\u001B[49m\u001B[38;5;241;43m.\u001B[39;49m\u001B[43mapply\u001B[49m\u001B[43m(\u001B[49m\u001B[43m)\u001B[49m\u001B[38;5;241m.\u001B[39m__finalize__(\u001B[38;5;28mself\u001B[39m, method\u001B[38;5;241m=\u001B[39m\u001B[38;5;124m\"\u001B[39m\u001B[38;5;124mapply\u001B[39m\u001B[38;5;124m\"\u001B[39m)\n",
      "File \u001B[1;32m~\\miniconda3\\envs\\DSA2\\Lib\\site-packages\\pandas\\core\\apply.py:916\u001B[0m, in \u001B[0;36mFrameApply.apply\u001B[1;34m(self)\u001B[0m\n\u001B[0;32m    913\u001B[0m \u001B[38;5;28;01melif\u001B[39;00m \u001B[38;5;28mself\u001B[39m\u001B[38;5;241m.\u001B[39mraw:\n\u001B[0;32m    914\u001B[0m     \u001B[38;5;28;01mreturn\u001B[39;00m \u001B[38;5;28mself\u001B[39m\u001B[38;5;241m.\u001B[39mapply_raw(engine\u001B[38;5;241m=\u001B[39m\u001B[38;5;28mself\u001B[39m\u001B[38;5;241m.\u001B[39mengine, engine_kwargs\u001B[38;5;241m=\u001B[39m\u001B[38;5;28mself\u001B[39m\u001B[38;5;241m.\u001B[39mengine_kwargs)\n\u001B[1;32m--> 916\u001B[0m \u001B[38;5;28;01mreturn\u001B[39;00m \u001B[38;5;28;43mself\u001B[39;49m\u001B[38;5;241;43m.\u001B[39;49m\u001B[43mapply_standard\u001B[49m\u001B[43m(\u001B[49m\u001B[43m)\u001B[49m\n",
      "File \u001B[1;32m~\\miniconda3\\envs\\DSA2\\Lib\\site-packages\\pandas\\core\\apply.py:1063\u001B[0m, in \u001B[0;36mFrameApply.apply_standard\u001B[1;34m(self)\u001B[0m\n\u001B[0;32m   1061\u001B[0m \u001B[38;5;28;01mdef\u001B[39;00m \u001B[38;5;21mapply_standard\u001B[39m(\u001B[38;5;28mself\u001B[39m):\n\u001B[0;32m   1062\u001B[0m     \u001B[38;5;28;01mif\u001B[39;00m \u001B[38;5;28mself\u001B[39m\u001B[38;5;241m.\u001B[39mengine \u001B[38;5;241m==\u001B[39m \u001B[38;5;124m\"\u001B[39m\u001B[38;5;124mpython\u001B[39m\u001B[38;5;124m\"\u001B[39m:\n\u001B[1;32m-> 1063\u001B[0m         results, res_index \u001B[38;5;241m=\u001B[39m \u001B[38;5;28;43mself\u001B[39;49m\u001B[38;5;241;43m.\u001B[39;49m\u001B[43mapply_series_generator\u001B[49m\u001B[43m(\u001B[49m\u001B[43m)\u001B[49m\n\u001B[0;32m   1064\u001B[0m     \u001B[38;5;28;01melse\u001B[39;00m:\n\u001B[0;32m   1065\u001B[0m         results, res_index \u001B[38;5;241m=\u001B[39m \u001B[38;5;28mself\u001B[39m\u001B[38;5;241m.\u001B[39mapply_series_numba()\n",
      "File \u001B[1;32m~\\miniconda3\\envs\\DSA2\\Lib\\site-packages\\pandas\\core\\apply.py:1081\u001B[0m, in \u001B[0;36mFrameApply.apply_series_generator\u001B[1;34m(self)\u001B[0m\n\u001B[0;32m   1078\u001B[0m \u001B[38;5;28;01mwith\u001B[39;00m option_context(\u001B[38;5;124m\"\u001B[39m\u001B[38;5;124mmode.chained_assignment\u001B[39m\u001B[38;5;124m\"\u001B[39m, \u001B[38;5;28;01mNone\u001B[39;00m):\n\u001B[0;32m   1079\u001B[0m     \u001B[38;5;28;01mfor\u001B[39;00m i, v \u001B[38;5;129;01min\u001B[39;00m \u001B[38;5;28menumerate\u001B[39m(series_gen):\n\u001B[0;32m   1080\u001B[0m         \u001B[38;5;66;03m# ignore SettingWithCopy here in case the user mutates\u001B[39;00m\n\u001B[1;32m-> 1081\u001B[0m         results[i] \u001B[38;5;241m=\u001B[39m \u001B[38;5;28;43mself\u001B[39;49m\u001B[38;5;241;43m.\u001B[39;49m\u001B[43mfunc\u001B[49m\u001B[43m(\u001B[49m\u001B[43mv\u001B[49m\u001B[43m,\u001B[49m\u001B[43m \u001B[49m\u001B[38;5;241;43m*\u001B[39;49m\u001B[38;5;28;43mself\u001B[39;49m\u001B[38;5;241;43m.\u001B[39;49m\u001B[43margs\u001B[49m\u001B[43m,\u001B[49m\u001B[43m \u001B[49m\u001B[38;5;241;43m*\u001B[39;49m\u001B[38;5;241;43m*\u001B[39;49m\u001B[38;5;28;43mself\u001B[39;49m\u001B[38;5;241;43m.\u001B[39;49m\u001B[43mkwargs\u001B[49m\u001B[43m)\u001B[49m\n\u001B[0;32m   1082\u001B[0m         \u001B[38;5;28;01mif\u001B[39;00m \u001B[38;5;28misinstance\u001B[39m(results[i], ABCSeries):\n\u001B[0;32m   1083\u001B[0m             \u001B[38;5;66;03m# If we have a view on v, we need to make a copy because\u001B[39;00m\n\u001B[0;32m   1084\u001B[0m             \u001B[38;5;66;03m#  series_generator will swap out the underlying data\u001B[39;00m\n\u001B[0;32m   1085\u001B[0m             results[i] \u001B[38;5;241m=\u001B[39m results[i]\u001B[38;5;241m.\u001B[39mcopy(deep\u001B[38;5;241m=\u001B[39m\u001B[38;5;28;01mFalse\u001B[39;00m)\n",
      "Cell \u001B[1;32mIn[7], line 15\u001B[0m, in \u001B[0;36m<lambda>\u001B[1;34m(x)\u001B[0m\n\u001B[0;32m     13\u001B[0m df_all[\u001B[38;5;124m'\u001B[39m\u001B[38;5;124mlen_of_query\u001B[39m\u001B[38;5;124m'\u001B[39m] \u001B[38;5;241m=\u001B[39m df_all[\u001B[38;5;124m'\u001B[39m\u001B[38;5;124msearch_term\u001B[39m\u001B[38;5;124m'\u001B[39m]\u001B[38;5;241m.\u001B[39mmap(\u001B[38;5;28;01mlambda\u001B[39;00m x:\u001B[38;5;28mlen\u001B[39m(x\u001B[38;5;241m.\u001B[39msplit()))\u001B[38;5;241m.\u001B[39mastype(np\u001B[38;5;241m.\u001B[39mint64)\n\u001B[0;32m     14\u001B[0m df_all[\u001B[38;5;124m'\u001B[39m\u001B[38;5;124mtitle_similarity\u001B[39m\u001B[38;5;124m'\u001B[39m] \u001B[38;5;241m=\u001B[39m df_all\u001B[38;5;241m.\u001B[39mapply(\u001B[38;5;28;01mlambda\u001B[39;00m x: compute_similarity(x[\u001B[38;5;124m'\u001B[39m\u001B[38;5;124msearch_term\u001B[39m\u001B[38;5;124m'\u001B[39m], x[\u001B[38;5;124m'\u001B[39m\u001B[38;5;124mproduct_title\u001B[39m\u001B[38;5;124m'\u001B[39m]), axis\u001B[38;5;241m=\u001B[39m\u001B[38;5;241m1\u001B[39m)\n\u001B[1;32m---> 15\u001B[0m df_all[\u001B[38;5;124m'\u001B[39m\u001B[38;5;124mdescription_similarity\u001B[39m\u001B[38;5;124m'\u001B[39m] \u001B[38;5;241m=\u001B[39m df_all\u001B[38;5;241m.\u001B[39mapply(\u001B[38;5;28;01mlambda\u001B[39;00m x: \u001B[43mcompute_similarity\u001B[49m\u001B[43m(\u001B[49m\u001B[43mx\u001B[49m\u001B[43m[\u001B[49m\u001B[38;5;124;43m'\u001B[39;49m\u001B[38;5;124;43msearch_term\u001B[39;49m\u001B[38;5;124;43m'\u001B[39;49m\u001B[43m]\u001B[49m\u001B[43m,\u001B[49m\u001B[43m \u001B[49m\u001B[43mx\u001B[49m\u001B[43m[\u001B[49m\u001B[38;5;124;43m'\u001B[39;49m\u001B[38;5;124;43mproduct_description\u001B[39;49m\u001B[38;5;124;43m'\u001B[39;49m\u001B[43m]\u001B[49m\u001B[43m)\u001B[49m, axis\u001B[38;5;241m=\u001B[39m\u001B[38;5;241m1\u001B[39m)\n\u001B[0;32m     17\u001B[0m search_term_nlp \u001B[38;5;241m=\u001B[39m [nlp(x) \u001B[38;5;28;01mfor\u001B[39;00m x \u001B[38;5;129;01min\u001B[39;00m df_all[\u001B[38;5;124m'\u001B[39m\u001B[38;5;124msearch_term\u001B[39m\u001B[38;5;124m'\u001B[39m]]\n\u001B[0;32m     18\u001B[0m colors_nlp \u001B[38;5;241m=\u001B[39m [nlp(x) \u001B[38;5;28;01mfor\u001B[39;00m x \u001B[38;5;129;01min\u001B[39;00m df_all[\u001B[38;5;124m'\u001B[39m\u001B[38;5;124mcolor_family\u001B[39m\u001B[38;5;124m'\u001B[39m]]\n",
      "Cell \u001B[1;32mIn[5], line 13\u001B[0m, in \u001B[0;36mcompute_similarity\u001B[1;34m(input_string, reference_string)\u001B[0m\n\u001B[0;32m     11\u001B[0m diff \u001B[38;5;241m=\u001B[39m ndiff(input_string, reference_string)\n\u001B[0;32m     12\u001B[0m diff_count \u001B[38;5;241m=\u001B[39m \u001B[38;5;241m0\u001B[39m\n\u001B[1;32m---> 13\u001B[0m \u001B[43m\u001B[49m\u001B[38;5;28;43;01mfor\u001B[39;49;00m\u001B[43m \u001B[49m\u001B[43mline\u001B[49m\u001B[43m \u001B[49m\u001B[38;5;129;43;01min\u001B[39;49;00m\u001B[43m \u001B[49m\u001B[43mdiff\u001B[49m\u001B[43m:\u001B[49m\n\u001B[0;32m     14\u001B[0m \u001B[43m    \u001B[49m\u001B[38;5;28;43;01mif\u001B[39;49;00m\u001B[43m \u001B[49m\u001B[43mline\u001B[49m\u001B[38;5;241;43m.\u001B[39;49m\u001B[43mstartswith\u001B[49m\u001B[43m(\u001B[49m\u001B[38;5;124;43m\"\u001B[39;49m\u001B[38;5;124;43m-\u001B[39;49m\u001B[38;5;124;43m\"\u001B[39;49m\u001B[43m)\u001B[49m\u001B[43m:\u001B[49m\n\u001B[0;32m     15\u001B[0m \u001B[43m        \u001B[49m\u001B[43mdiff_count\u001B[49m\u001B[43m \u001B[49m\u001B[38;5;241;43m+\u001B[39;49m\u001B[38;5;241;43m=\u001B[39;49m\u001B[43m \u001B[49m\u001B[38;5;241;43m1\u001B[39;49m\n",
      "File \u001B[1;32m~\\miniconda3\\envs\\DSA2\\Lib\\difflib.py:872\u001B[0m, in \u001B[0;36mDiffer.compare\u001B[1;34m(self, a, b)\u001B[0m\n\u001B[0;32m    869\u001B[0m \u001B[38;5;28;01melse\u001B[39;00m:\n\u001B[0;32m    870\u001B[0m     \u001B[38;5;28;01mraise\u001B[39;00m \u001B[38;5;167;01mValueError\u001B[39;00m(\u001B[38;5;124m'\u001B[39m\u001B[38;5;124munknown tag \u001B[39m\u001B[38;5;132;01m%r\u001B[39;00m\u001B[38;5;124m'\u001B[39m \u001B[38;5;241m%\u001B[39m (tag,))\n\u001B[1;32m--> 872\u001B[0m \u001B[38;5;28;01myield from\u001B[39;00m g\n",
      "File \u001B[1;32m~\\miniconda3\\envs\\DSA2\\Lib\\difflib.py:985\u001B[0m, in \u001B[0;36mDiffer._fancy_replace\u001B[1;34m(self, a, alo, ahi, b, blo, bhi)\u001B[0m\n\u001B[0;32m    982\u001B[0m     \u001B[38;5;28;01myield\u001B[39;00m \u001B[38;5;124m'\u001B[39m\u001B[38;5;124m  \u001B[39m\u001B[38;5;124m'\u001B[39m \u001B[38;5;241m+\u001B[39m aelt\n\u001B[0;32m    984\u001B[0m \u001B[38;5;66;03m# pump out diffs from after the synch point\u001B[39;00m\n\u001B[1;32m--> 985\u001B[0m \u001B[38;5;28;01myield from\u001B[39;00m \u001B[38;5;28mself\u001B[39m\u001B[38;5;241m.\u001B[39m_fancy_helper(a, best_i\u001B[38;5;241m+\u001B[39m\u001B[38;5;241m1\u001B[39m, ahi, b, best_j\u001B[38;5;241m+\u001B[39m\u001B[38;5;241m1\u001B[39m, bhi)\n",
      "File \u001B[1;32m~\\miniconda3\\envs\\DSA2\\Lib\\difflib.py:997\u001B[0m, in \u001B[0;36mDiffer._fancy_helper\u001B[1;34m(self, a, alo, ahi, b, blo, bhi)\u001B[0m\n\u001B[0;32m    994\u001B[0m \u001B[38;5;28;01melif\u001B[39;00m blo \u001B[38;5;241m<\u001B[39m bhi:\n\u001B[0;32m    995\u001B[0m     g \u001B[38;5;241m=\u001B[39m \u001B[38;5;28mself\u001B[39m\u001B[38;5;241m.\u001B[39m_dump(\u001B[38;5;124m'\u001B[39m\u001B[38;5;124m+\u001B[39m\u001B[38;5;124m'\u001B[39m, b, blo, bhi)\n\u001B[1;32m--> 997\u001B[0m \u001B[38;5;28;01myield from\u001B[39;00m g\n",
      "File \u001B[1;32m~\\miniconda3\\envs\\DSA2\\Lib\\difflib.py:985\u001B[0m, in \u001B[0;36mDiffer._fancy_replace\u001B[1;34m(self, a, alo, ahi, b, blo, bhi)\u001B[0m\n\u001B[0;32m    982\u001B[0m     \u001B[38;5;28;01myield\u001B[39;00m \u001B[38;5;124m'\u001B[39m\u001B[38;5;124m  \u001B[39m\u001B[38;5;124m'\u001B[39m \u001B[38;5;241m+\u001B[39m aelt\n\u001B[0;32m    984\u001B[0m \u001B[38;5;66;03m# pump out diffs from after the synch point\u001B[39;00m\n\u001B[1;32m--> 985\u001B[0m \u001B[38;5;28;01myield from\u001B[39;00m \u001B[38;5;28mself\u001B[39m\u001B[38;5;241m.\u001B[39m_fancy_helper(a, best_i\u001B[38;5;241m+\u001B[39m\u001B[38;5;241m1\u001B[39m, ahi, b, best_j\u001B[38;5;241m+\u001B[39m\u001B[38;5;241m1\u001B[39m, bhi)\n",
      "File \u001B[1;32m~\\miniconda3\\envs\\DSA2\\Lib\\difflib.py:997\u001B[0m, in \u001B[0;36mDiffer._fancy_helper\u001B[1;34m(self, a, alo, ahi, b, blo, bhi)\u001B[0m\n\u001B[0;32m    994\u001B[0m \u001B[38;5;28;01melif\u001B[39;00m blo \u001B[38;5;241m<\u001B[39m bhi:\n\u001B[0;32m    995\u001B[0m     g \u001B[38;5;241m=\u001B[39m \u001B[38;5;28mself\u001B[39m\u001B[38;5;241m.\u001B[39m_dump(\u001B[38;5;124m'\u001B[39m\u001B[38;5;124m+\u001B[39m\u001B[38;5;124m'\u001B[39m, b, blo, bhi)\n\u001B[1;32m--> 997\u001B[0m \u001B[38;5;28;01myield from\u001B[39;00m g\n",
      "File \u001B[1;32m~\\miniconda3\\envs\\DSA2\\Lib\\difflib.py:938\u001B[0m, in \u001B[0;36mDiffer._fancy_replace\u001B[1;34m(self, a, alo, ahi, b, blo, bhi)\u001B[0m\n\u001B[0;32m    930\u001B[0m         cruncher\u001B[38;5;241m.\u001B[39mset_seq1(ai)\n\u001B[0;32m    931\u001B[0m         \u001B[38;5;66;03m# computing similarity is expensive, so use the quick\u001B[39;00m\n\u001B[0;32m    932\u001B[0m         \u001B[38;5;66;03m# upper bounds first -- have seen this speed up messy\u001B[39;00m\n\u001B[0;32m    933\u001B[0m         \u001B[38;5;66;03m# compares by a factor of 3.\u001B[39;00m\n\u001B[0;32m    934\u001B[0m         \u001B[38;5;66;03m# note that ratio() is only expensive to compute the first\u001B[39;00m\n\u001B[0;32m    935\u001B[0m         \u001B[38;5;66;03m# time it's called on a sequence pair; the expensive part\u001B[39;00m\n\u001B[0;32m    936\u001B[0m         \u001B[38;5;66;03m# of the computation is cached by cruncher\u001B[39;00m\n\u001B[0;32m    937\u001B[0m         \u001B[38;5;28;01mif\u001B[39;00m cruncher\u001B[38;5;241m.\u001B[39mreal_quick_ratio() \u001B[38;5;241m>\u001B[39m best_ratio \u001B[38;5;129;01mand\u001B[39;00m \\\n\u001B[1;32m--> 938\u001B[0m               \u001B[43mcruncher\u001B[49m\u001B[38;5;241;43m.\u001B[39;49m\u001B[43mquick_ratio\u001B[49m\u001B[43m(\u001B[49m\u001B[43m)\u001B[49m \u001B[38;5;241m>\u001B[39m best_ratio \u001B[38;5;129;01mand\u001B[39;00m \\\n\u001B[0;32m    939\u001B[0m               cruncher\u001B[38;5;241m.\u001B[39mratio() \u001B[38;5;241m>\u001B[39m best_ratio:\n\u001B[0;32m    940\u001B[0m             best_ratio, best_i, best_j \u001B[38;5;241m=\u001B[39m cruncher\u001B[38;5;241m.\u001B[39mratio(), i, j\n\u001B[0;32m    941\u001B[0m \u001B[38;5;28;01mif\u001B[39;00m best_ratio \u001B[38;5;241m<\u001B[39m cutoff:\n\u001B[0;32m    942\u001B[0m     \u001B[38;5;66;03m# no non-identical \"pretty close\" pair\u001B[39;00m\n",
      "File \u001B[1;32m~\\miniconda3\\envs\\DSA2\\Lib\\difflib.py:645\u001B[0m, in \u001B[0;36mSequenceMatcher.quick_ratio\u001B[1;34m(self)\u001B[0m\n\u001B[0;32m    643\u001B[0m     numb \u001B[38;5;241m=\u001B[39m avail[elt]\n\u001B[0;32m    644\u001B[0m \u001B[38;5;28;01melse\u001B[39;00m:\n\u001B[1;32m--> 645\u001B[0m     numb \u001B[38;5;241m=\u001B[39m \u001B[43mfullbcount\u001B[49m\u001B[38;5;241;43m.\u001B[39;49m\u001B[43mget\u001B[49m\u001B[43m(\u001B[49m\u001B[43melt\u001B[49m\u001B[43m,\u001B[49m\u001B[43m \u001B[49m\u001B[38;5;241;43m0\u001B[39;49m\u001B[43m)\u001B[49m\n\u001B[0;32m    646\u001B[0m avail[elt] \u001B[38;5;241m=\u001B[39m numb \u001B[38;5;241m-\u001B[39m \u001B[38;5;241m1\u001B[39m\n\u001B[0;32m    647\u001B[0m \u001B[38;5;28;01mif\u001B[39;00m numb \u001B[38;5;241m>\u001B[39m \u001B[38;5;241m0\u001B[39m:\n",
      "\u001B[1;31mKeyboardInterrupt\u001B[0m: "
     ]
    }
   ],
   "source": [
    "num_train = df_train.shape[0]\n",
    "\n",
    "df_all = pd.concat((df_train, df_test), axis=0, ignore_index=True)\n",
    "\n",
    "df_all = pd.merge(df_all, df_pro_desc, how='left', on='product_uid')\n",
    "\n",
    "color_attribute = df_attr.loc[df_attr['name']=='Color Family'].drop(['name'], axis=1).rename(columns={'value':'color_family'})\n",
    "df_all = pd.merge(df_all, color_attribute, how=\"left\", on=\"product_uid\")\n",
    "df_all['color_family'] = df_all['color_family'].map(lambda x:str_stemmer(str(x)))\n",
    "df_all['search_term'] = df_all['search_term'].map(lambda x:str_stemmer(x))\n",
    "df_all['product_title'] = df_all['product_title'].map(lambda x:str_stemmer(x))\n",
    "df_all['product_description'] = df_all['product_description'].map(lambda x:str_stemmer(x))\n",
    "df_all['len_of_query'] = df_all['search_term'].map(lambda x:len(x.split())).astype(np.int64)\n",
    "df_all['title_similarity'] = df_all.apply(lambda x: compute_similarity(x['search_term'], x['product_title']), axis=1)\n",
    "df_all['description_similarity'] = df_all.apply(lambda x: compute_similarity(x['search_term'], x['product_description']), axis=1)\n",
    "\n",
    "search_term_nlp = [nlp(x) for x in df_all['search_term']]\n",
    "colors_nlp = [nlp(x) for x in df_all['color_family']]\n",
    "df_all['color_similarity'] = df_all['similarity_score'] = [search_term_nlp[i].similarity(colors_nlp[i]) for i in range(len(df_all))]\n",
    "\n",
    "df_all = df_all.drop(['search_term','product_title','product_description','product_info'],axis=1)\n",
    "\n",
    "df_train = df_all.iloc[:num_train]"
   ],
   "metadata": {
    "collapsed": false,
    "ExecuteTime": {
     "end_time": "2024-04-15T17:10:39.060647300Z",
     "start_time": "2024-04-15T17:00:34.505522700Z"
    }
   }
  },
  {
   "cell_type": "markdown",
   "source": [
    "# Training split"
   ],
   "metadata": {
    "collapsed": false
   }
  },
  {
   "cell_type": "code",
   "execution_count": null,
   "outputs": [],
   "source": [
    "X_train, X_test, y_train, y_test = train_test_split(df_train.drop(['id','relevance'],axis=1).values, df_train['relevance'].values, test_size=0.20, random_state=42)\n",
    "\n",
    "id_test = X_test[:, 0]\n",
    "X_train = X_train[:,1:]\n",
    "X_test = X_test[:,1:]\n",
    "\n",
    "rf = RandomForestRegressor(n_estimators=15, max_depth=6, random_state=0)\n",
    "clf = BaggingRegressor(rf, n_estimators=45, max_samples=0.1, random_state=25)\n",
    "clf.fit(X_train, y_train)\n",
    "y_pred = clf.predict(X_test)\n",
    "\n",
    "pd.DataFrame({\"id\": id_test, \"relevance\": y_pred}).to_csv('week7_1.csv',index=False)"
   ],
   "metadata": {
    "collapsed": false
   }
  },
  {
   "cell_type": "markdown",
   "source": [
    "# Evaluation"
   ],
   "metadata": {
    "collapsed": false
   }
  },
  {
   "cell_type": "code",
   "execution_count": null,
   "outputs": [],
   "source": [
    "def root_mean_squared_error(y_test, y_pred):\n",
    "\trmse = np.sqrt(mean_squared_error(y_test, y_pred))\n",
    "\treturn rmse\n",
    "\n",
    "rmse = root_mean_squared_error(y_test, y_pred)\n",
    "\n",
    "print(rmse)"
   ],
   "metadata": {
    "collapsed": false
   }
  }
 ],
 "metadata": {
  "kernelspec": {
   "display_name": "Python 3",
   "language": "python",
   "name": "python3"
  },
  "language_info": {
   "codemirror_mode": {
    "name": "ipython",
    "version": 2
   },
   "file_extension": ".py",
   "mimetype": "text/x-python",
   "name": "python",
   "nbconvert_exporter": "python",
   "pygments_lexer": "ipython2",
   "version": "2.7.6"
  }
 },
 "nbformat": 4,
 "nbformat_minor": 0
}
